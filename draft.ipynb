{
 "cells": [
  {
   "cell_type": "code",
   "execution_count": 4,
   "metadata": {},
   "outputs": [],
   "source": [
    "import numpy as np"
   ]
  },
  {
   "cell_type": "code",
   "execution_count": 8,
   "metadata": {},
   "outputs": [],
   "source": [
    "def categorical_to_onehot(categorical, categories=[2, 3]):\n",
    "    # create a list to store the one-hot encoded values\n",
    "    onehot = []\n",
    "    \n",
    "    # iterate over the columns of the categorical matrix\n",
    "    for i in range(categorical.shape[1]):\n",
    "        # create a one-hot encoded matrix for the i-th column\n",
    "        onehot_i = np.eye(categories[i])[categorical[:, i]]\n",
    "        \n",
    "        # append the one-hot encoded matrix to the list\n",
    "        onehot.append(onehot_i)\n",
    "    \n",
    "    # concatenate the one-hot encoded matrices along the columns\n",
    "    return np.concatenate(onehot, axis=1)"
   ]
  },
  {
   "cell_type": "code",
   "execution_count": 10,
   "metadata": {},
   "outputs": [
    {
     "name": "stdout",
     "output_type": "stream",
     "text": [
      "[[1. 0. 0. 0. 1. 0.]\n",
      " [0. 1. 0. 0. 0. 1.]\n",
      " [0. 0. 1. 1. 0. 0.]]\n"
     ]
    }
   ],
   "source": [
    "# test\n",
    "categorical = np.array([[0, 1], [1, 2], [2, 0]])\n",
    "categories = [3, 3]\n",
    "print(categorical_to_onehot(categorical, categories))"
   ]
  },
  {
   "cell_type": "code",
   "execution_count": null,
   "metadata": {},
   "outputs": [],
   "source": []
  }
 ],
 "metadata": {
  "kernelspec": {
   "display_name": "ai",
   "language": "python",
   "name": "python3"
  },
  "language_info": {
   "codemirror_mode": {
    "name": "ipython",
    "version": 3
   },
   "file_extension": ".py",
   "mimetype": "text/x-python",
   "name": "python",
   "nbconvert_exporter": "python",
   "pygments_lexer": "ipython3",
   "version": "3.10.14"
  }
 },
 "nbformat": 4,
 "nbformat_minor": 2
}
