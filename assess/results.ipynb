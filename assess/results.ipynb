{
 "cells": [
  {
   "cell_type": "code",
   "execution_count": 1,
   "metadata": {},
   "outputs": [],
   "source": [
    "# import os\n",
    "# import pandas as pd\n",
    "\n",
    "# shapes = pd.read_parquet('./eval/density/german/trends.parquet')"
   ]
  },
  {
   "cell_type": "code",
   "execution_count": 6,
   "metadata": {},
   "outputs": [
    {
     "name": "stdout",
     "output_type": "stream",
     "text": [
      "Original Matrix:\n",
      " [[0 2 1]\n",
      " [1 0 2]\n",
      " [2 1 0]]\n",
      "\n",
      "One-Hot Encoded Matrix:\n",
      " [[[1. 0. 0.]\n",
      "  [0. 0. 1.]\n",
      "  [0. 1. 0.]]\n",
      "\n",
      " [[0. 1. 0.]\n",
      "  [1. 0. 0.]\n",
      "  [0. 0. 1.]]\n",
      "\n",
      " [[0. 0. 1.]\n",
      "  [0. 1. 0.]\n",
      "  [1. 0. 0.]]]\n",
      "\n",
      "Flattened One-Hot Encoded Matrix:\n",
      " [[1. 0. 0. 0. 0. 1. 0. 1. 0.]\n",
      " [0. 1. 0. 1. 0. 0. 0. 0. 1.]\n",
      " [0. 0. 1. 0. 1. 0. 1. 0. 0.]]\n"
     ]
    }
   ],
   "source": [
    "import numpy as np\n",
    "\n",
    "def one_hot_encode(matrix):\n",
    "    # Determine the maximum value in the matrix\n",
    "    num_categories = np.max(matrix) + 1\n",
    "    \n",
    "    # Initialize an empty list to hold the one-hot encoded rows\n",
    "    one_hot_matrix = []\n",
    "    \n",
    "    # Iterate over each row in the matrix\n",
    "    for row in matrix:\n",
    "        # One-hot encode each element in the row\n",
    "        one_hot_row = [np.eye(num_categories)[elem] for elem in row]\n",
    "        # Combine the one-hot encoded vectors back into a single row\n",
    "        one_hot_matrix.append(one_hot_row)\n",
    "    \n",
    "    # Convert the list of lists to a numpy array\n",
    "    return np.array(one_hot_matrix)\n",
    "\n",
    "# Example matrix\n",
    "matrix = np.array([\n",
    "    [0, 2, 1],\n",
    "    [1, 0, 2],\n",
    "    [2, 1, 0]\n",
    "])\n",
    "\n",
    "# Convert to one-hot encoded matrix\n",
    "one_hot_matrix = one_hot_encode(matrix)\n",
    "\n",
    "print(\"Original Matrix:\\n\", matrix)\n",
    "print(\"\\nOne-Hot Encoded Matrix:\\n\", one_hot_matrix)\n",
    "\n",
    "# flatten each row\n",
    "one_hot_matrix = one_hot_matrix.reshape(one_hot_matrix.shape[0], -1)\n",
    "print(\"\\nFlattened One-Hot Encoded Matrix:\\n\", one_hot_matrix)\n"
   ]
  },
  {
   "cell_type": "code",
   "execution_count": null,
   "metadata": {},
   "outputs": [],
   "source": []
  }
 ],
 "metadata": {
  "kernelspec": {
   "display_name": "ai",
   "language": "python",
   "name": "python3"
  },
  "language_info": {
   "codemirror_mode": {
    "name": "ipython",
    "version": 3
   },
   "file_extension": ".py",
   "mimetype": "text/x-python",
   "name": "python",
   "nbconvert_exporter": "python",
   "pygments_lexer": "ipython3",
   "version": "3.10.14"
  }
 },
 "nbformat": 4,
 "nbformat_minor": 2
}
