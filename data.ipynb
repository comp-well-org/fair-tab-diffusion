{
 "cells": [
  {
   "cell_type": "code",
   "execution_count": 69,
   "metadata": {},
   "outputs": [],
   "source": [
    "import tomli\n",
    "from src.diffusion.utils import XYCTabDataModule\n",
    "from src.diffusion.estimator import PosteriorEstimator, DenoiseFn\n",
    "from src.diffusion.configs import DenoiseFnCfg, DataCfg, GuidCfg\n",
    "from src.diffusion.unet import Unet\n",
    "from src.diffusion.ddpm import GaussianMultinomialDiffusion\n",
    "from src.diffusion.trainer import XYCTabTrainer"
   ]
  },
  {
   "cell_type": "code",
   "execution_count": 56,
   "metadata": {},
   "outputs": [],
   "source": [
    "def load_config(path) -> dict:\n",
    "    with open(path, 'rb') as f:\n",
    "        return tomli.load(f)"
   ]
  },
  {
   "cell_type": "code",
   "execution_count": 60,
   "metadata": {},
   "outputs": [],
   "source": [
    "config = load_config('./args/ddpm/adult/config.toml')"
   ]
  },
  {
   "cell_type": "code",
   "execution_count": 61,
   "metadata": {},
   "outputs": [],
   "source": [
    "# configs\n",
    "exp_config = config['exp']\n",
    "guid_config = config['guid']\n",
    "data_config = config['data']\n",
    "model_config = config['model']\n",
    "eval_config = config['eval']\n",
    "sample_config = config['sample']\n",
    "plot_config = config['plot']"
   ]
  },
  {
   "cell_type": "code",
   "execution_count": 51,
   "metadata": {},
   "outputs": [],
   "source": [
    "data_module = XYCTabDataModule(\n",
    "    root='/rdf/db/public-tabular-datasets/adult/',\n",
    "    batch_size=32,\n",
    ")"
   ]
  },
  {
   "cell_type": "code",
   "execution_count": 52,
   "metadata": {},
   "outputs": [],
   "source": [
    "data_desc = data_module.get_data_description()\n",
    "norm_fn = data_module.get_norm_fn()\n",
    "empirical_dist = data_module.get_empirical_dist()"
   ]
  },
  {
   "cell_type": "code",
   "execution_count": 53,
   "metadata": {},
   "outputs": [],
   "source": [
    "d_oh_x = data_desc['d_oh_x']\n",
    "d_num_x = data_desc['d_num_x']\n",
    "n_channels = data_desc['n_channels']\n",
    "n_unq_c_lst = data_desc['n_unq_c_lst']\n",
    "n_unq_cat_od_x_lst = data_desc['n_unq_cat_od_x_lst']"
   ]
  },
  {
   "cell_type": "code",
   "execution_count": 63,
   "metadata": {},
   "outputs": [],
   "source": [
    "cond_emb_factor = 2"
   ]
  },
  {
   "cell_type": "code",
   "execution_count": 64,
   "metadata": {},
   "outputs": [],
   "source": [
    "denoise_fn = DenoiseFn(\n",
    "    denoise_fn_cfg=DenoiseFnCfg(\n",
    "        d_x_emb=model_config['d_x_emb'],\n",
    "        d_t_emb=model_config['d_t_emb'],\n",
    "        d_cond_emb=model_config['d_cond_emb'],\n",
    "    ),\n",
    "    data_cfg=DataCfg(\n",
    "        d_oh_x=d_oh_x,\n",
    "        n_channels=n_channels,\n",
    "        n_unq_c_lst=n_unq_c_lst,\n",
    "    ),\n",
    "    guid_cfg=GuidCfg(\n",
    "        cond_guid_weight=guid_config['cond_guid_weight'],\n",
    "        cond_guid_threshold=guid_config['cond_guid_threshold'],\n",
    "        cond_momentum_weight=guid_config['cond_momentum_weight'],\n",
    "        cond_momentum_beta=guid_config['cond_momentum_beta'],\n",
    "        warmup_steps=guid_config['warmup_steps'],\n",
    "        overall_guid_weight=guid_config['overall_guid_weight'],\n",
    "    ),\n",
    "    posterior_est=PosteriorEstimator(\n",
    "        Unet(\n",
    "            n_in_channels=n_channels,\n",
    "            n_out_channels=n_channels,\n",
    "            n_base_channels=model_config['n_base_channels'],\n",
    "            n_channels_factors=model_config['n_channels_factors'],\n",
    "            n_res_blocks=model_config['n_res_blocks'],\n",
    "            attention_levels=model_config['attention_levels'],\n",
    "            d_t_emb=model_config['d_t_emb'],\n",
    "            d_cond_emb=model_config['d_cond_emb'] * cond_emb_factor,\n",
    "            n_groups=model_config['n_groups'],\n",
    "            n_heads=model_config['n_heads'],\n",
    "            n_tf_layers=model_config['n_tf_layers'],\n",
    "        ),\n",
    "    ),\n",
    ")"
   ]
  },
  {
   "cell_type": "code",
   "execution_count": 68,
   "metadata": {},
   "outputs": [],
   "source": [
    "diffusion = GaussianMultinomialDiffusion(\n",
    "    num_classes=np.array(n_unq_cat_od_x_lst),\n",
    "    num_numerical_features=d_num_x,\n",
    "    denoise_fn=denoise_fn,\n",
    "    device=exp_config['device'],\n",
    "    scheduler=model_config['scheduler'],\n",
    "    max_beta=model_config['max_beta'],\n",
    "    num_timesteps=model_config['n_timesteps'],\n",
    "    is_fair=False,\n",
    "    gaussian_parametrization=model_config['parametrization'],\n",
    ")"
   ]
  },
  {
   "cell_type": "code",
   "execution_count": null,
   "metadata": {},
   "outputs": [],
   "source": []
  }
 ],
 "metadata": {
  "kernelspec": {
   "display_name": "ai",
   "language": "python",
   "name": "python3"
  },
  "language_info": {
   "codemirror_mode": {
    "name": "ipython",
    "version": 3
   },
   "file_extension": ".py",
   "mimetype": "text/x-python",
   "name": "python",
   "nbconvert_exporter": "python",
   "pygments_lexer": "ipython3",
   "version": "3.10.14"
  }
 },
 "nbformat": 4,
 "nbformat_minor": 2
}
